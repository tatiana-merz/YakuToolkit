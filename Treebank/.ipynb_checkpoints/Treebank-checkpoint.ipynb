{
 "cells": [
  {
   "cell_type": "code",
   "execution_count": 1,
   "id": "b08833a7",
   "metadata": {},
   "outputs": [],
   "source": [
    "import re\n",
    "import requests\n",
    "import pandas as pd"
   ]
  },
  {
   "cell_type": "markdown",
   "id": "ee5b7c81",
   "metadata": {},
   "source": [
    "## Вставь сюда ссылку на теко трибанк, raw "
   ]
  },
  {
   "cell_type": "code",
   "execution_count": 2,
   "id": "05ef7bec",
   "metadata": {},
   "outputs": [],
   "source": [
    "ud = \"https://raw.githubusercontent.com/UniversalDependencies/UD_Yakut-YKTDT/dev/sah_yktdt-ud-test.conllu\"\n",
    "f = requests.get(ud)\n",
    "file = f.text.split(\"\\n\")"
   ]
  },
  {
   "cell_type": "code",
   "execution_count": 3,
   "id": "c3a8854e",
   "metadata": {},
   "outputs": [],
   "source": [
    "rege = r\"^\\d+\\t\"\n",
    "lst = []\n",
    "\n",
    "for line in file:\n",
    "    if re.match(rege, line):\n",
    "        lst.append(line)"
   ]
  },
  {
   "cell_type": "code",
   "execution_count": 4,
   "id": "71bffb8b",
   "metadata": {},
   "outputs": [],
   "source": [
    "df = pd.DataFrame([sub.split(\"\\t\") for sub in lst])\n",
    "colnames = [\"ID\", \"WORD\", \"LEMMA\", \"POS\", \"SPOS\", \"FEATURES\", \"6\", \"7\", \"8\", \"9\"]\n",
    "df.columns = colnames"
   ]
  },
  {
   "cell_type": "code",
   "execution_count": 5,
   "id": "c1a2fa00",
   "metadata": {},
   "outputs": [],
   "source": [
    "df1 = df.drop([\"ID\", \"SPOS\", \"6\", \"7\", \"8\", \"9\", ], axis=1)\n",
    "df1['WORD'] = df1['WORD'].str.lower()\n",
    "df1['LEMMA'] = df1['LEMMA'].str.lower()"
   ]
  },
  {
   "cell_type": "code",
   "execution_count": 6,
   "id": "eabfe22f",
   "metadata": {},
   "outputs": [
    {
     "data": {
      "text/html": [
       "<div>\n",
       "<style scoped>\n",
       "    .dataframe tbody tr th:only-of-type {\n",
       "        vertical-align: middle;\n",
       "    }\n",
       "\n",
       "    .dataframe tbody tr th {\n",
       "        vertical-align: top;\n",
       "    }\n",
       "\n",
       "    .dataframe thead th {\n",
       "        text-align: right;\n",
       "    }\n",
       "</style>\n",
       "<table border=\"1\" class=\"dataframe\">\n",
       "  <thead>\n",
       "    <tr style=\"text-align: right;\">\n",
       "      <th></th>\n",
       "      <th>WORD</th>\n",
       "      <th>LEMMA</th>\n",
       "      <th>POS</th>\n",
       "      <th>FEATURES</th>\n",
       "    </tr>\n",
       "  </thead>\n",
       "  <tbody>\n",
       "    <tr>\n",
       "      <th>0</th>\n",
       "      <td>кинилэр</td>\n",
       "      <td>кини</td>\n",
       "      <td>PRON</td>\n",
       "      <td>Case=Nom|Number=Plur|Person=3|PronType=Prs</td>\n",
       "    </tr>\n",
       "    <tr>\n",
       "      <th>1</th>\n",
       "      <td>кэллилэр</td>\n",
       "      <td>кэл</td>\n",
       "      <td>VERB</td>\n",
       "      <td>Number=Plur|Person=3|Tense=NearPast</td>\n",
       "    </tr>\n",
       "    <tr>\n",
       "      <th>2</th>\n",
       "      <td>кинигэлэри</td>\n",
       "      <td>кинигэ</td>\n",
       "      <td>NOUN</td>\n",
       "      <td>Case=Acc|Number=Plur</td>\n",
       "    </tr>\n",
       "    <tr>\n",
       "      <th>3</th>\n",
       "      <td>күн</td>\n",
       "      <td>күн</td>\n",
       "      <td>NOUN</td>\n",
       "      <td>Case=Nom|Number=Sing</td>\n",
       "    </tr>\n",
       "    <tr>\n",
       "      <th>4</th>\n",
       "      <td>аайы</td>\n",
       "      <td>аайы</td>\n",
       "      <td>DET</td>\n",
       "      <td>_</td>\n",
       "    </tr>\n",
       "  </tbody>\n",
       "</table>\n",
       "</div>"
      ],
      "text/plain": [
       "         WORD   LEMMA   POS                                    FEATURES\n",
       "0     кинилэр    кини  PRON  Case=Nom|Number=Plur|Person=3|PronType=Prs\n",
       "1    кэллилэр     кэл  VERB         Number=Plur|Person=3|Tense=NearPast\n",
       "2  кинигэлэри  кинигэ  NOUN                        Case=Acc|Number=Plur\n",
       "3         күн     күн  NOUN                        Case=Nom|Number=Sing\n",
       "4        аайы    аайы   DET                                           _"
      ]
     },
     "execution_count": 6,
     "metadata": {},
     "output_type": "execute_result"
    }
   ],
   "source": [
    "df1.head()"
   ]
  },
  {
   "cell_type": "code",
   "execution_count": 7,
   "id": "a2c2e63a",
   "metadata": {},
   "outputs": [
    {
     "name": "stdout",
     "output_type": "stream",
     "text": [
      "Number of unique lemmas: 673\n"
     ]
    }
   ],
   "source": [
    "print(\"Number of unique lemmas: \" + str(len(df1.WORD.unique())))"
   ]
  },
  {
   "cell_type": "code",
   "execution_count": 8,
   "id": "0b4b339c",
   "metadata": {},
   "outputs": [
    {
     "name": "stdout",
     "output_type": "stream",
     "text": [
      "Number of unique lemmas: 428\n"
     ]
    }
   ],
   "source": [
    "print(\"Number of unique lemmas: \" + str(len(df1.LEMMA.unique())))"
   ]
  }
 ],
 "metadata": {
  "kernelspec": {
   "display_name": "Python 3",
   "language": "python",
   "name": "python3"
  },
  "language_info": {
   "codemirror_mode": {
    "name": "ipython",
    "version": 3
   },
   "file_extension": ".py",
   "mimetype": "text/x-python",
   "name": "python",
   "nbconvert_exporter": "python",
   "pygments_lexer": "ipython3",
   "version": "3.9.13"
  }
 },
 "nbformat": 4,
 "nbformat_minor": 5
}
