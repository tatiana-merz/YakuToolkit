{
 "cells": [
  {
   "cell_type": "code",
   "execution_count": 24,
   "id": "22412653",
   "metadata": {},
   "outputs": [],
   "source": [
    "import pandas as pd"
   ]
  },
  {
   "cell_type": "code",
   "execution_count": 2,
   "id": "b5e516bb",
   "metadata": {},
   "outputs": [
    {
     "data": {
      "text/html": [
       "<div>\n",
       "<style scoped>\n",
       "    .dataframe tbody tr th:only-of-type {\n",
       "        vertical-align: middle;\n",
       "    }\n",
       "\n",
       "    .dataframe tbody tr th {\n",
       "        vertical-align: top;\n",
       "    }\n",
       "\n",
       "    .dataframe thead th {\n",
       "        text-align: right;\n",
       "    }\n",
       "</style>\n",
       "<table border=\"1\" class=\"dataframe\">\n",
       "  <thead>\n",
       "    <tr style=\"text-align: right;\">\n",
       "      <th></th>\n",
       "      <th>Word</th>\n",
       "      <th>Prediction</th>\n",
       "    </tr>\n",
       "  </thead>\n",
       "  <tbody>\n",
       "    <tr>\n",
       "      <th>0</th>\n",
       "      <td>диэн</td>\n",
       "      <td>диэн&lt;CCONJ&gt;</td>\n",
       "    </tr>\n",
       "    <tr>\n",
       "      <th>1</th>\n",
       "      <td>уонна</td>\n",
       "      <td>уонна&lt;CCONJ&gt;</td>\n",
       "    </tr>\n",
       "    <tr>\n",
       "      <th>2</th>\n",
       "      <td>киһи</td>\n",
       "      <td>киһи&lt;NOUN&gt;&lt;Number=Sing&gt;&lt;Case=Nom&gt;</td>\n",
       "    </tr>\n",
       "    <tr>\n",
       "      <th>3</th>\n",
       "      <td>бу</td>\n",
       "      <td>бу&lt;DET&gt;</td>\n",
       "    </tr>\n",
       "    <tr>\n",
       "      <th>4</th>\n",
       "      <td>ол</td>\n",
       "      <td>ол&lt;PRON&gt;&lt;PronType=Dem&gt;</td>\n",
       "    </tr>\n",
       "    <tr>\n",
       "      <th>...</th>\n",
       "      <td>...</td>\n",
       "      <td>...</td>\n",
       "    </tr>\n",
       "    <tr>\n",
       "      <th>8745</th>\n",
       "      <td>сымыыттыыр</td>\n",
       "      <td>+?</td>\n",
       "    </tr>\n",
       "    <tr>\n",
       "      <th>8746</th>\n",
       "      <td>сэмэйдик</td>\n",
       "      <td>+?</td>\n",
       "    </tr>\n",
       "    <tr>\n",
       "      <th>8747</th>\n",
       "      <td>дьоло</td>\n",
       "      <td>+?</td>\n",
       "    </tr>\n",
       "    <tr>\n",
       "      <th>8748</th>\n",
       "      <td>билбитин</td>\n",
       "      <td>+?</td>\n",
       "    </tr>\n",
       "    <tr>\n",
       "      <th>8749</th>\n",
       "      <td>рагынан</td>\n",
       "      <td>+?</td>\n",
       "    </tr>\n",
       "  </tbody>\n",
       "</table>\n",
       "<p>8750 rows × 2 columns</p>\n",
       "</div>"
      ],
      "text/plain": [
       "            Word                         Prediction\n",
       "0           диэн                        диэн<CCONJ>\n",
       "1          уонна                       уонна<CCONJ>\n",
       "2           киһи  киһи<NOUN><Number=Sing><Case=Nom>\n",
       "3             бу                            бу<DET>\n",
       "4             ол             ол<PRON><PronType=Dem>\n",
       "...          ...                                ...\n",
       "8745  сымыыттыыр                                 +?\n",
       "8746    сэмэйдик                                 +?\n",
       "8747       дьоло                                 +?\n",
       "8748    билбитин                                 +?\n",
       "8749     рагынан                                 +?\n",
       "\n",
       "[8750 rows x 2 columns]"
      ]
     },
     "execution_count": 2,
     "metadata": {},
     "output_type": "execute_result"
    }
   ],
   "source": [
    "colnames = [\"Word\", \"Prediction\"]\n",
    "df = pd.read_csv(\"sah_corpus_results.txt\", sep=\"\\t\", encoding=\"utf-8\", names = colnames)\n",
    "df#.head()"
   ]
  },
  {
   "cell_type": "code",
   "execution_count": 3,
   "id": "8cf21c36",
   "metadata": {},
   "outputs": [
    {
     "name": "stdout",
     "output_type": "stream",
     "text": [
      "Number of duplicates: 437\n"
     ]
    }
   ],
   "source": [
    "#df['Word'].duplicated()\n",
    "dup = df[df['Word'].isin(df['Word'][df['Word'].duplicated()])].sort_values(\"Word\")\n",
    "print(\"Number of duplicates: \" + str(len(dup)))"
   ]
  },
  {
   "cell_type": "code",
   "execution_count": null,
   "id": "32961947",
   "metadata": {},
   "outputs": [],
   "source": []
  },
  {
   "cell_type": "code",
   "execution_count": 4,
   "id": "090338ff",
   "metadata": {},
   "outputs": [
    {
     "data": {
      "text/html": [
       "<div>\n",
       "<style scoped>\n",
       "    .dataframe tbody tr th:only-of-type {\n",
       "        vertical-align: middle;\n",
       "    }\n",
       "\n",
       "    .dataframe tbody tr th {\n",
       "        vertical-align: top;\n",
       "    }\n",
       "\n",
       "    .dataframe thead th {\n",
       "        text-align: right;\n",
       "    }\n",
       "</style>\n",
       "<table border=\"1\" class=\"dataframe\">\n",
       "  <thead>\n",
       "    <tr style=\"text-align: right;\">\n",
       "      <th></th>\n",
       "      <th>Word</th>\n",
       "      <th>Prediction</th>\n",
       "    </tr>\n",
       "  </thead>\n",
       "  <tbody>\n",
       "    <tr>\n",
       "      <th>329</th>\n",
       "      <td>аайы</td>\n",
       "      <td>аайы&lt;ADJ&gt;</td>\n",
       "    </tr>\n",
       "    <tr>\n",
       "      <th>330</th>\n",
       "      <td>аайы</td>\n",
       "      <td>аайы&lt;DET&gt;</td>\n",
       "    </tr>\n",
       "    <tr>\n",
       "      <th>6126</th>\n",
       "      <td>аас</td>\n",
       "      <td>аас&lt;VERB&gt;&lt;Mood=Imp&gt;&lt;Number=Sing&gt;&lt;Person=2&gt;&lt;Ten...</td>\n",
       "    </tr>\n",
       "    <tr>\n",
       "      <th>6127</th>\n",
       "      <td>аас</td>\n",
       "      <td>аас&lt;NOUN&gt;&lt;Number=Sing&gt;&lt;Case=Nom&gt;</td>\n",
       "    </tr>\n",
       "    <tr>\n",
       "      <th>713</th>\n",
       "      <td>ааспыт</td>\n",
       "      <td>аас&lt;NOUN&gt;&lt;Number=Sing&gt;&lt;Number[psor]=Plur&gt;&lt;Pers...</td>\n",
       "    </tr>\n",
       "    <tr>\n",
       "      <th>714</th>\n",
       "      <td>ааспыт</td>\n",
       "      <td>аас&lt;VERB&gt;&lt;Number=Sing&gt;&lt;Person=3&gt;&lt;Tense=PastRes...</td>\n",
       "    </tr>\n",
       "    <tr>\n",
       "      <th>4303</th>\n",
       "      <td>ааттаабыт</td>\n",
       "      <td>ааттаа&lt;VERB&gt;&lt;Number=Sing&gt;&lt;Person=3&gt;&lt;Tense=Past...</td>\n",
       "    </tr>\n",
       "    <tr>\n",
       "      <th>4302</th>\n",
       "      <td>ааттаабыт</td>\n",
       "      <td>ааттаа&lt;VERB&gt;&lt;Number=Plur&gt;&lt;Person=1&gt;&lt;Tense=Pres&gt;</td>\n",
       "    </tr>\n",
       "    <tr>\n",
       "      <th>5515</th>\n",
       "      <td>ааһа</td>\n",
       "      <td>аас&lt;VERB&gt;&lt;Tense=Pres&gt;&lt;VerbForm=Trans&gt;</td>\n",
       "    </tr>\n",
       "    <tr>\n",
       "      <th>5516</th>\n",
       "      <td>ааһа</td>\n",
       "      <td>аас&lt;NOUN&gt;&lt;Number=Sing&gt;&lt;Number[psor]=Sing&gt;&lt;Pers...</td>\n",
       "    </tr>\n",
       "    <tr>\n",
       "      <th>5937</th>\n",
       "      <td>айаҕын</td>\n",
       "      <td>айах&lt;NOUN&gt;&lt;Number=Sing&gt;&lt;Number[psor]=Sing&gt;&lt;Per...</td>\n",
       "    </tr>\n",
       "    <tr>\n",
       "      <th>5936</th>\n",
       "      <td>айаҕын</td>\n",
       "      <td>ай&lt;VERB&gt;&lt;Number=Sing&gt;&lt;Person=2&gt;&lt;Tense=Pres&gt;</td>\n",
       "    </tr>\n",
       "    <tr>\n",
       "      <th>2163</th>\n",
       "      <td>айбыт</td>\n",
       "      <td>ай&lt;VERB&gt;&lt;Number=Plur&gt;&lt;Person=1&gt;&lt;Tense=Pres&gt;</td>\n",
       "    </tr>\n",
       "    <tr>\n",
       "      <th>2164</th>\n",
       "      <td>айбыт</td>\n",
       "      <td>ай&lt;VERB&gt;&lt;Number=Sing&gt;&lt;Person=3&gt;&lt;Tense=PastResu...</td>\n",
       "    </tr>\n",
       "    <tr>\n",
       "      <th>5538</th>\n",
       "      <td>айылҕата</td>\n",
       "      <td>айылҕа&lt;NOUN&gt;&lt;Number=Sing&gt;&lt;Number[psor]=Sing&gt;&lt;P...</td>\n",
       "    </tr>\n",
       "  </tbody>\n",
       "</table>\n",
       "</div>"
      ],
      "text/plain": [
       "           Word                                         Prediction\n",
       "329        аайы                                          аайы<ADJ>\n",
       "330        аайы                                          аайы<DET>\n",
       "6126        аас  аас<VERB><Mood=Imp><Number=Sing><Person=2><Ten...\n",
       "6127        аас                   аас<NOUN><Number=Sing><Case=Nom>\n",
       "713      ааспыт  аас<NOUN><Number=Sing><Number[psor]=Plur><Pers...\n",
       "714      ааспыт  аас<VERB><Number=Sing><Person=3><Tense=PastRes...\n",
       "4303  ааттаабыт  ааттаа<VERB><Number=Sing><Person=3><Tense=Past...\n",
       "4302  ааттаабыт    ааттаа<VERB><Number=Plur><Person=1><Tense=Pres>\n",
       "5515       ааһа              аас<VERB><Tense=Pres><VerbForm=Trans>\n",
       "5516       ааһа  аас<NOUN><Number=Sing><Number[psor]=Sing><Pers...\n",
       "5937     айаҕын  айах<NOUN><Number=Sing><Number[psor]=Sing><Per...\n",
       "5936     айаҕын        ай<VERB><Number=Sing><Person=2><Tense=Pres>\n",
       "2163      айбыт        ай<VERB><Number=Plur><Person=1><Tense=Pres>\n",
       "2164      айбыт  ай<VERB><Number=Sing><Person=3><Tense=PastResu...\n",
       "5538   айылҕата  айылҕа<NOUN><Number=Sing><Number[psor]=Sing><P..."
      ]
     },
     "execution_count": 4,
     "metadata": {},
     "output_type": "execute_result"
    }
   ],
   "source": [
    "dup.head(15)"
   ]
  },
  {
   "cell_type": "code",
   "execution_count": 5,
   "id": "6b973d80",
   "metadata": {},
   "outputs": [
    {
     "data": {
      "text/plain": [
       "2.051643192488263"
      ]
     },
     "execution_count": 5,
     "metadata": {},
     "output_type": "execute_result"
    }
   ],
   "source": [
    "dup['Word'].value_counts().mean()"
   ]
  },
  {
   "cell_type": "code",
   "execution_count": 6,
   "id": "1439261d",
   "metadata": {},
   "outputs": [
    {
     "name": "stdout",
     "output_type": "stream",
     "text": [
      "Mean number of duplicates: 0.04994285714285714\n"
     ]
    }
   ],
   "source": [
    "print(\"Mean number of duplicates: \" + str(len(dup)/len(df)))"
   ]
  },
  {
   "cell_type": "code",
   "execution_count": null,
   "id": "9b411edb",
   "metadata": {},
   "outputs": [],
   "source": []
  },
  {
   "cell_type": "code",
   "execution_count": 7,
   "id": "57af0e8e",
   "metadata": {},
   "outputs": [
    {
     "name": "stdout",
     "output_type": "stream",
     "text": [
      "Number of unknown words in corpus: 6950\n"
     ]
    },
    {
     "data": {
      "text/html": [
       "<div>\n",
       "<style scoped>\n",
       "    .dataframe tbody tr th:only-of-type {\n",
       "        vertical-align: middle;\n",
       "    }\n",
       "\n",
       "    .dataframe tbody tr th {\n",
       "        vertical-align: top;\n",
       "    }\n",
       "\n",
       "    .dataframe thead th {\n",
       "        text-align: right;\n",
       "    }\n",
       "</style>\n",
       "<table border=\"1\" class=\"dataframe\">\n",
       "  <thead>\n",
       "    <tr style=\"text-align: right;\">\n",
       "      <th></th>\n",
       "      <th>Word</th>\n",
       "      <th>Prediction</th>\n",
       "    </tr>\n",
       "  </thead>\n",
       "  <tbody>\n",
       "    <tr>\n",
       "      <th>28</th>\n",
       "      <td>баран</td>\n",
       "      <td>+?</td>\n",
       "    </tr>\n",
       "    <tr>\n",
       "      <th>53</th>\n",
       "      <td>оҥорор</td>\n",
       "      <td>+?</td>\n",
       "    </tr>\n",
       "    <tr>\n",
       "      <th>65</th>\n",
       "      <td>бэйэтин</td>\n",
       "      <td>+?</td>\n",
       "    </tr>\n",
       "    <tr>\n",
       "      <th>69</th>\n",
       "      <td>сыллаахха</td>\n",
       "      <td>+?</td>\n",
       "    </tr>\n",
       "    <tr>\n",
       "      <th>71</th>\n",
       "      <td>ону</td>\n",
       "      <td>+?</td>\n",
       "    </tr>\n",
       "  </tbody>\n",
       "</table>\n",
       "</div>"
      ],
      "text/plain": [
       "         Word Prediction\n",
       "28      баран         +?\n",
       "53     оҥорор         +?\n",
       "65    бэйэтин         +?\n",
       "69  сыллаахха         +?\n",
       "71        ону         +?"
      ]
     },
     "execution_count": 7,
     "metadata": {},
     "output_type": "execute_result"
    }
   ],
   "source": [
    "unknown = df[df[\"Prediction\"].str.contains(\"\\+\\?\")]\n",
    "print(\"Number of unknown words in corpus: \" + str(len(unknown)))\n",
    "unknown.head()"
   ]
  },
  {
   "cell_type": "markdown",
   "id": "93d26dc0",
   "metadata": {},
   "source": [
    "## Calculating the coverage"
   ]
  },
  {
   "cell_type": "code",
   "execution_count": 8,
   "id": "2a94a6ed",
   "metadata": {},
   "outputs": [
    {
     "name": "stdout",
     "output_type": "stream",
     "text": [
      "Transducer coverage: 20.57142857142857\n"
     ]
    }
   ],
   "source": [
    "res = ((len(df)-len(unknown))/len(df))*100\n",
    "\n",
    "print(\"Transducer coverage: \" + str(res))"
   ]
  },
  {
   "cell_type": "code",
   "execution_count": 9,
   "id": "dcb2dde4",
   "metadata": {},
   "outputs": [
    {
     "name": "stdout",
     "output_type": "stream",
     "text": [
      "Corpus length: 8750\n",
      "Number of duplicates: 437\n",
      "Mean duplicates per token: 2.051643192488263\n",
      "Mean number of duplicates: 0.04994285714285714\n",
      "Number of unknown words in corpus: 6950\n",
      "Transducer coverage: 20.57142857142857\n"
     ]
    }
   ],
   "source": [
    "import pandas as pd\n",
    "\n",
    "colnames = [\"Word\", \"Prediction\"]\n",
    "df = pd.read_csv(\"sah_corpus_results.txt\", sep=\"\\t\", encoding=\"utf-8\", names = colnames)\n",
    "\n",
    "dup = df[df['Word'].isin(df['Word'][df['Word'].duplicated()])].sort_values(\"Word\")\n",
    "mean_dup = dup['Word'].value_counts().mean()\n",
    "\n",
    "unknown = df[df[\"Prediction\"].str.contains(\"\\+\\?\")]\n",
    "res = ((len(df)-len(unknown))/len(df))*100\n",
    "\n",
    "print(\"Corpus length: \" + str(len(df)))\n",
    "print(\"Number of duplicates: \" + str(len(dup)))\n",
    "print(\"Mean duplicates per token: \" + str(mean_dup))\n",
    "print(\"Mean number of duplicates: \" + str(len(dup)/len(df)))\n",
    "print(\"Number of unknown words in corpus: \" + str(len(unknown)))\n",
    "print(\"Transducer coverage: \" + str(res))"
   ]
  },
  {
   "cell_type": "code",
   "execution_count": 33,
   "id": "dcfd01ba",
   "metadata": {},
   "outputs": [
    {
     "data": {
      "text/plain": [
       "20.57142857142857"
      ]
     },
     "execution_count": 33,
     "metadata": {},
     "output_type": "execute_result"
    }
   ],
   "source": [
    "unknown_words = len(unknown) / len(df)\n",
    "percent = unknown_words * 100\n",
    "100 - percent"
   ]
  },
  {
   "cell_type": "markdown",
   "id": "39e4fc66",
   "metadata": {},
   "source": [
    "## How many features were recognized"
   ]
  },
  {
   "cell_type": "code",
   "execution_count": 10,
   "id": "7f7b9430",
   "metadata": {},
   "outputs": [
    {
     "data": {
      "text/html": [
       "<div>\n",
       "<style scoped>\n",
       "    .dataframe tbody tr th:only-of-type {\n",
       "        vertical-align: middle;\n",
       "    }\n",
       "\n",
       "    .dataframe tbody tr th {\n",
       "        vertical-align: top;\n",
       "    }\n",
       "\n",
       "    .dataframe thead th {\n",
       "        text-align: right;\n",
       "    }\n",
       "</style>\n",
       "<table border=\"1\" class=\"dataframe\">\n",
       "  <thead>\n",
       "    <tr style=\"text-align: right;\">\n",
       "      <th></th>\n",
       "      <th>Word</th>\n",
       "      <th>Prediction</th>\n",
       "    </tr>\n",
       "  </thead>\n",
       "  <tbody>\n",
       "    <tr>\n",
       "      <th>0</th>\n",
       "      <td>диэн</td>\n",
       "      <td>&lt;CCONJ&gt;</td>\n",
       "    </tr>\n",
       "    <tr>\n",
       "      <th>1</th>\n",
       "      <td>уонна</td>\n",
       "      <td>&lt;CCONJ&gt;</td>\n",
       "    </tr>\n",
       "    <tr>\n",
       "      <th>2</th>\n",
       "      <td>киһи</td>\n",
       "      <td>&lt;NOUN&gt;&lt;Number=Sing&gt;&lt;Case=Nom&gt;</td>\n",
       "    </tr>\n",
       "    <tr>\n",
       "      <th>3</th>\n",
       "      <td>бу</td>\n",
       "      <td>&lt;DET&gt;</td>\n",
       "    </tr>\n",
       "    <tr>\n",
       "      <th>4</th>\n",
       "      <td>ол</td>\n",
       "      <td>&lt;PRON&gt;&lt;PronType=Dem&gt;</td>\n",
       "    </tr>\n",
       "  </tbody>\n",
       "</table>\n",
       "</div>"
      ],
      "text/plain": [
       "    Word                     Prediction\n",
       "0   диэн                        <CCONJ>\n",
       "1  уонна                        <CCONJ>\n",
       "2   киһи  <NOUN><Number=Sing><Case=Nom>\n",
       "3     бу                          <DET>\n",
       "4     ол           <PRON><PronType=Dem>"
      ]
     },
     "execution_count": 10,
     "metadata": {},
     "output_type": "execute_result"
    }
   ],
   "source": [
    "df2 = df#.Prediction\n",
    "df2.Prediction = df2.Prediction.str.replace(\"^\\w*<\", \"<\", regex=True)\n",
    "df2 = df2[~df2[\"Prediction\"].isin([\"+?\"])]\n",
    "df2.head()"
   ]
  },
  {
   "cell_type": "markdown",
   "id": "bf3f1956",
   "metadata": {},
   "source": [
    "## Most common features"
   ]
  },
  {
   "cell_type": "code",
   "execution_count": 19,
   "id": "7480bdf5",
   "metadata": {},
   "outputs": [
    {
     "data": {
      "text/plain": [
       "<NOUN><Number=Sing><Case=Nom>                                       231\n",
       "<NOUN><Number=Sing><Number[psor]=Sing><Person[psor]=3><Case=Nom>    111\n",
       "<NOUN><Number=Sing><Case=Dat>                                        90\n",
       "<VERB><Number=Sing><Person=3><Tense=Pres>                            87\n",
       "<NOUN><Number=Sing><Case=Acc>                                        85\n",
       "<ADJ>                                                                83\n",
       "<NOUN><Number=Plur><Case=Nom>                                        70\n",
       "<VERB><Tense=Pres><VerbForm=Trans>                                   69\n",
       "<NOUN><Number=Plur><Number[psor]=Sing><Person[psor]=3><Case=Nom>     67\n",
       "<NOUN><Number=Sing><Number[psor]=Sing><Person[psor]=3><Case=Acc>     59\n",
       "Name: Prediction, dtype: int64"
      ]
     },
     "execution_count": 19,
     "metadata": {},
     "output_type": "execute_result"
    }
   ],
   "source": [
    "df2.Prediction.value_counts()[:10]"
   ]
  },
  {
   "cell_type": "code",
   "execution_count": 12,
   "id": "ec7409b1",
   "metadata": {},
   "outputs": [
    {
     "data": {
      "text/plain": [
       "79"
      ]
     },
     "execution_count": 12,
     "metadata": {},
     "output_type": "execute_result"
    }
   ],
   "source": [
    "len(df2.Prediction.unique())"
   ]
  },
  {
   "cell_type": "code",
   "execution_count": 13,
   "id": "49888e04",
   "metadata": {},
   "outputs": [],
   "source": [
    "#df2.Prediction.unique()"
   ]
  },
  {
   "cell_type": "code",
   "execution_count": null,
   "id": "3d33e3ab",
   "metadata": {},
   "outputs": [],
   "source": []
  },
  {
   "cell_type": "markdown",
   "id": "74403837",
   "metadata": {},
   "source": [
    "## How many possible features in foma"
   ]
  },
  {
   "cell_type": "code",
   "execution_count": 20,
   "id": "c58f3cb4",
   "metadata": {},
   "outputs": [
    {
     "data": {
      "text/html": [
       "<div>\n",
       "<style scoped>\n",
       "    .dataframe tbody tr th:only-of-type {\n",
       "        vertical-align: middle;\n",
       "    }\n",
       "\n",
       "    .dataframe tbody tr th {\n",
       "        vertical-align: top;\n",
       "    }\n",
       "\n",
       "    .dataframe thead th {\n",
       "        text-align: right;\n",
       "    }\n",
       "</style>\n",
       "<table border=\"1\" class=\"dataframe\">\n",
       "  <thead>\n",
       "    <tr style=\"text-align: right;\">\n",
       "      <th></th>\n",
       "      <th>Form</th>\n",
       "      <th>Word</th>\n",
       "    </tr>\n",
       "  </thead>\n",
       "  <tbody>\n",
       "    <tr>\n",
       "      <th>0</th>\n",
       "      <td>тэтэрээт&lt;NOUN&gt;&lt;Number=Sing&gt;&lt;Case=Com&gt;</td>\n",
       "      <td>тэтэрээттиин</td>\n",
       "    </tr>\n",
       "    <tr>\n",
       "      <th>1</th>\n",
       "      <td>тэтэрээт&lt;NOUN&gt;&lt;Number=Sing&gt;&lt;Int=Yes&gt;&lt;Case=Nom&gt;</td>\n",
       "      <td>тэтэрээтий</td>\n",
       "    </tr>\n",
       "    <tr>\n",
       "      <th>2</th>\n",
       "      <td>тэтэрээт&lt;NOUN&gt;&lt;Number=Sing&gt;&lt;Case=Abl&gt;</td>\n",
       "      <td>тэтэрээттан</td>\n",
       "    </tr>\n",
       "    <tr>\n",
       "      <th>3</th>\n",
       "      <td>тэтэрээт&lt;NOUN&gt;&lt;Number=Sing&gt;&lt;Case=Dat&gt;&lt;Nomzr=Ac...</td>\n",
       "      <td>тэтэрээтыахха</td>\n",
       "    </tr>\n",
       "    <tr>\n",
       "      <th>4</th>\n",
       "      <td>тэтэрээт&lt;NOUN&gt;&lt;Number=Sing&gt;&lt;Case=Cmp&gt;</td>\n",
       "      <td>тэтэрээттээҕэр</td>\n",
       "    </tr>\n",
       "  </tbody>\n",
       "</table>\n",
       "</div>"
      ],
      "text/plain": [
       "                                                Form            Word\n",
       "0              тэтэрээт<NOUN><Number=Sing><Case=Com>    тэтэрээттиин\n",
       "1     тэтэрээт<NOUN><Number=Sing><Int=Yes><Case=Nom>      тэтэрээтий\n",
       "2              тэтэрээт<NOUN><Number=Sing><Case=Abl>     тэтэрээттан\n",
       "3  тэтэрээт<NOUN><Number=Sing><Case=Dat><Nomzr=Ac...   тэтэрээтыахха\n",
       "4              тэтэрээт<NOUN><Number=Sing><Case=Cmp>  тэтэрээттээҕэр"
      ]
     },
     "execution_count": 20,
     "metadata": {},
     "output_type": "execute_result"
    }
   ],
   "source": [
    "pairs = pd.read_csv(\"/Users/tatiana/Documents/Uni/Thesis/yakut_thesis/FST/allpairs.txt\",names=[\"Form\", \"Word\"], sep=\"\\t\", encoding=\"utf-8\")\n",
    "pairs.head()"
   ]
  },
  {
   "cell_type": "code",
   "execution_count": 21,
   "id": "07f0cfe1",
   "metadata": {},
   "outputs": [
    {
     "data": {
      "text/html": [
       "<div>\n",
       "<style scoped>\n",
       "    .dataframe tbody tr th:only-of-type {\n",
       "        vertical-align: middle;\n",
       "    }\n",
       "\n",
       "    .dataframe tbody tr th {\n",
       "        vertical-align: top;\n",
       "    }\n",
       "\n",
       "    .dataframe thead th {\n",
       "        text-align: right;\n",
       "    }\n",
       "</style>\n",
       "<table border=\"1\" class=\"dataframe\">\n",
       "  <thead>\n",
       "    <tr style=\"text-align: right;\">\n",
       "      <th></th>\n",
       "      <th>Form</th>\n",
       "      <th>Word</th>\n",
       "    </tr>\n",
       "  </thead>\n",
       "  <tbody>\n",
       "    <tr>\n",
       "      <th>0</th>\n",
       "      <td>&lt;NOUN&gt;&lt;Number=Sing&gt;&lt;Case=Com&gt;</td>\n",
       "      <td>тэтэрээттиин</td>\n",
       "    </tr>\n",
       "    <tr>\n",
       "      <th>1</th>\n",
       "      <td>&lt;NOUN&gt;&lt;Number=Sing&gt;&lt;Int=Yes&gt;&lt;Case=Nom&gt;</td>\n",
       "      <td>тэтэрээтий</td>\n",
       "    </tr>\n",
       "    <tr>\n",
       "      <th>2</th>\n",
       "      <td>&lt;NOUN&gt;&lt;Number=Sing&gt;&lt;Case=Abl&gt;</td>\n",
       "      <td>тэтэрээттан</td>\n",
       "    </tr>\n",
       "    <tr>\n",
       "      <th>3</th>\n",
       "      <td>&lt;NOUN&gt;&lt;Number=Sing&gt;&lt;Case=Dat&gt;&lt;Nomzr=Action&gt;</td>\n",
       "      <td>тэтэрээтыахха</td>\n",
       "    </tr>\n",
       "    <tr>\n",
       "      <th>4</th>\n",
       "      <td>&lt;NOUN&gt;&lt;Number=Sing&gt;&lt;Case=Cmp&gt;</td>\n",
       "      <td>тэтэрээттээҕэр</td>\n",
       "    </tr>\n",
       "  </tbody>\n",
       "</table>\n",
       "</div>"
      ],
      "text/plain": [
       "                                          Form            Word\n",
       "0                <NOUN><Number=Sing><Case=Com>    тэтэрээттиин\n",
       "1       <NOUN><Number=Sing><Int=Yes><Case=Nom>      тэтэрээтий\n",
       "2                <NOUN><Number=Sing><Case=Abl>     тэтэрээттан\n",
       "3  <NOUN><Number=Sing><Case=Dat><Nomzr=Action>   тэтэрээтыахха\n",
       "4                <NOUN><Number=Sing><Case=Cmp>  тэтэрээттээҕэр"
      ]
     },
     "execution_count": 21,
     "metadata": {},
     "output_type": "execute_result"
    }
   ],
   "source": [
    "pairs.Form = pairs.Form.str.replace(\"^\\w*<\", \"<\", regex=True)\n",
    "pairs.head()"
   ]
  },
  {
   "cell_type": "code",
   "execution_count": 22,
   "id": "0998125d",
   "metadata": {},
   "outputs": [
    {
     "data": {
      "text/plain": [
       "121"
      ]
     },
     "execution_count": 22,
     "metadata": {},
     "output_type": "execute_result"
    }
   ],
   "source": [
    "len(pairs.Form.unique())"
   ]
  },
  {
   "cell_type": "code",
   "execution_count": 23,
   "id": "cf47ddba",
   "metadata": {},
   "outputs": [
    {
     "data": {
      "text/plain": [
       "{'<AUX><Int=Yes>',\n",
       " '<AUX><Number=Plur><Person=1><Tense=Pres>',\n",
       " '<NOUN><Number=Plur><Case=Cmp>',\n",
       " '<NOUN><Number=Plur><Case=Com>',\n",
       " '<NOUN><Number=Plur><Case=Dat><Nomzr=Action>',\n",
       " '<NOUN><Number=Plur><Case=Par>',\n",
       " '<NOUN><Number=Plur><Int=Yes><Case=Nom>',\n",
       " '<NOUN><Number=Plur><Number[psor]=Plur><Person[psor]=2><Case=Nom>',\n",
       " '<NOUN><Number=Plur><Number[psor]=Plur><Person[psor]=3><Case=Acc>',\n",
       " '<NOUN><Number=Plur><Number[psor]=Plur><Person[psor]=3><Case=Nom>',\n",
       " '<NOUN><Number=Plur><Number[psor]=Sing><Person[psor]=1><Case=Acc>',\n",
       " '<NOUN><Number=Plur><Number[psor]=Sing><Person[psor]=1><Case=Nom>',\n",
       " '<NOUN><Number=Plur><Number[psor]=Sing><Person[psor]=2><Case=Nom>',\n",
       " '<NOUN><Number=Plur><Number[psor]=Sing><Person[psor]=3><Case=Dat>',\n",
       " '<NOUN><Number=Plur><Number[psor]=Sing><Person[psor]=3><Case=Ins>',\n",
       " '<NOUN><Number=Sing><Case=Dat><Nomzr=Action>',\n",
       " '<NOUN><Number=Sing><Int=Yes><Case=Nom>',\n",
       " '<NOUN><Number=Sing><Nomzr=Action><Case=Dat>',\n",
       " '<NOUN><Number=Sing><Number[psor]=Sing><Person[psor]=1><Case=Acc>',\n",
       " '<NUM><Case=Acc><NumType=Card>',\n",
       " '<PRON><Case=Dat><Number=Plur><Person=2><PronType=Prs>',\n",
       " '<PRON><Case=Dat><Number=Sing><Person=2><PronType=Prs>',\n",
       " '<PRON><Int=Yes><PronType=Int>',\n",
       " '<PROPN><Case=Com>',\n",
       " '<VERB><Int=Yes><Number=Plur><Person=3><Tense=Pres>',\n",
       " '<VERB><Int=Yes><Number=Sing><Person=3><Tense=Pres>',\n",
       " '<VERB><Mood=Imp><Number=Plur><Person=2><Polarity=Neg><Tense=Pres>',\n",
       " '<VERB><Mood=Imp><Number=Sing><Person=3><Tense=Pres>',\n",
       " '<VERB><Number=Plur><Person=1><Polarity=Neg><Tense=Pres>',\n",
       " '<VERB><Number=Plur><Person=1><Tense=Fut>',\n",
       " '<VERB><Number=Plur><Person=2><Polarity=Neg><Tense=NearPast>',\n",
       " '<VERB><Number=Plur><Person=2><Polarity=Neg><Tense=Pres>',\n",
       " '<VERB><Number=Plur><Person=2><Tense=Pres>',\n",
       " '<VERB><Number=Plur><Person=3><Tense=Fut>',\n",
       " '<VERB><Number=Sing><Person=1><Tense=Fut>',\n",
       " '<VERB><Number=Sing><Person=1><Tense=NearPast>',\n",
       " '<VERB><Number=Sing><Person=1><Tense=PastPerf>',\n",
       " '<VERB><Number=Sing><Person=1><Tense=Pres>',\n",
       " '<VERB><Number=Sing><Person=2><Polarity=Neg><Tense=Pres>',\n",
       " '<VERB><Number=Sing><Person=2><Tense=Fut>',\n",
       " '<VERB><Number=Sing><Person=2><Tense=PastPerf>',\n",
       " '<VERB><Number=Sing><Person=3><Tense=Fut>'}"
      ]
     },
     "execution_count": 23,
     "metadata": {},
     "output_type": "execute_result"
    }
   ],
   "source": [
    "not_in_cp = set(pairs.Form.unique().tolist()) - set(df2.Prediction.unique().tolist())\n",
    "not_in_cp"
   ]
  },
  {
   "cell_type": "code",
   "execution_count": null,
   "id": "2d8a7f6a",
   "metadata": {},
   "outputs": [],
   "source": []
  },
  {
   "cell_type": "code",
   "execution_count": 18,
   "id": "31e8e312",
   "metadata": {},
   "outputs": [],
   "source": [
    "errors_analysis = unknown.sample(n = 100)\n",
    "errors_analysis.to_csv(\"Errors2Analyze.tsv\", sep=\"\\t\", encoding=\"utf-8\", index=False,)"
   ]
  },
  {
   "cell_type": "code",
   "execution_count": null,
   "id": "c95c3d42",
   "metadata": {},
   "outputs": [],
   "source": []
  },
  {
   "cell_type": "code",
   "execution_count": 28,
   "id": "0fdf319c",
   "metadata": {},
   "outputs": [
    {
     "data": {
      "text/plain": [
       "Not in lexicon         79\n",
       "Error in analysis       8\n",
       "Proper noun             5\n",
       "Feature not covered     5\n",
       "Foreign word            3\n",
       "Name: Error, dtype: int64"
      ]
     },
     "execution_count": 28,
     "metadata": {},
     "output_type": "execute_result"
    }
   ],
   "source": [
    "colnames = [\"Word\", \"Error\"]\n",
    "df_errors = pd.read_csv(\"Errors2Analyze_Res.tsv\", sep=\"\\t\", encoding=\"utf-8\", names = colnames)\n",
    "df_errors.Error.value_counts()"
   ]
  },
  {
   "cell_type": "code",
   "execution_count": null,
   "id": "c6c5985c",
   "metadata": {},
   "outputs": [],
   "source": []
  }
 ],
 "metadata": {
  "kernelspec": {
   "display_name": "Python 3",
   "language": "python",
   "name": "python3"
  },
  "language_info": {
   "codemirror_mode": {
    "name": "ipython",
    "version": 3
   },
   "file_extension": ".py",
   "mimetype": "text/x-python",
   "name": "python",
   "nbconvert_exporter": "python",
   "pygments_lexer": "ipython3",
   "version": "3.9.13"
  }
 },
 "nbformat": 4,
 "nbformat_minor": 5
}
