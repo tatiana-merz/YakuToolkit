{
 "cells": [
  {
   "cell_type": "code",
   "execution_count": 44,
   "id": "22412653",
   "metadata": {},
   "outputs": [],
   "source": [
    "import pandas as pd"
   ]
  },
  {
   "cell_type": "code",
   "execution_count": 50,
   "id": "b5e516bb",
   "metadata": {},
   "outputs": [
    {
     "data": {
      "text/html": [
       "<div>\n",
       "<style scoped>\n",
       "    .dataframe tbody tr th:only-of-type {\n",
       "        vertical-align: middle;\n",
       "    }\n",
       "\n",
       "    .dataframe tbody tr th {\n",
       "        vertical-align: top;\n",
       "    }\n",
       "\n",
       "    .dataframe thead th {\n",
       "        text-align: right;\n",
       "    }\n",
       "</style>\n",
       "<table border=\"1\" class=\"dataframe\">\n",
       "  <thead>\n",
       "    <tr style=\"text-align: right;\">\n",
       "      <th></th>\n",
       "      <th>Word</th>\n",
       "      <th>Prediction</th>\n",
       "    </tr>\n",
       "  </thead>\n",
       "  <tbody>\n",
       "    <tr>\n",
       "      <th>0</th>\n",
       "      <td>диэн</td>\n",
       "      <td>+?</td>\n",
       "    </tr>\n",
       "    <tr>\n",
       "      <th>1</th>\n",
       "      <td>уонна</td>\n",
       "      <td>уонна&lt;CCONJ&gt;</td>\n",
       "    </tr>\n",
       "    <tr>\n",
       "      <th>2</th>\n",
       "      <td>киһи</td>\n",
       "      <td>киһи&lt;NOUN&gt;&lt;Number=Sing&gt;&lt;Case=Nom&gt;</td>\n",
       "    </tr>\n",
       "    <tr>\n",
       "      <th>3</th>\n",
       "      <td>бу</td>\n",
       "      <td>бу&lt;DET&gt;</td>\n",
       "    </tr>\n",
       "    <tr>\n",
       "      <th>4</th>\n",
       "      <td>ол</td>\n",
       "      <td>ол&lt;PRON&gt;&lt;PronType=Dem&gt;</td>\n",
       "    </tr>\n",
       "  </tbody>\n",
       "</table>\n",
       "</div>"
      ],
      "text/plain": [
       "    Word                         Prediction\n",
       "0   диэн                                 +?\n",
       "1  уонна                       уонна<CCONJ>\n",
       "2   киһи  киһи<NOUN><Number=Sing><Case=Nom>\n",
       "3     бу                            бу<DET>\n",
       "4     ол             ол<PRON><PronType=Dem>"
      ]
     },
     "execution_count": 50,
     "metadata": {},
     "output_type": "execute_result"
    }
   ],
   "source": [
    "colnames = [\"Word\", \"Prediction\"]\n",
    "df = pd.read_csv(\"sah_results.txt\", sep=\"\\t\", encoding=\"utf-8\", names = colnames)\n",
    "df.head()"
   ]
  },
  {
   "cell_type": "code",
   "execution_count": 12,
   "id": "8733a6d2",
   "metadata": {},
   "outputs": [
    {
     "name": "stdout",
     "output_type": "stream",
     "text": [
      "Number of duplicates: 41\n"
     ]
    }
   ],
   "source": [
    "dup = len(df['Word'])-len(df['Word'].drop_duplicates())\n",
    "print(\"Number of duplicates: \" + str(dup))"
   ]
  },
  {
   "cell_type": "code",
   "execution_count": 46,
   "id": "57af0e8e",
   "metadata": {},
   "outputs": [
    {
     "name": "stdout",
     "output_type": "stream",
     "text": [
      "Number of unknown words in corpus: 1183\n"
     ]
    },
    {
     "data": {
      "text/html": [
       "<div>\n",
       "<style scoped>\n",
       "    .dataframe tbody tr th:only-of-type {\n",
       "        vertical-align: middle;\n",
       "    }\n",
       "\n",
       "    .dataframe tbody tr th {\n",
       "        vertical-align: top;\n",
       "    }\n",
       "\n",
       "    .dataframe thead th {\n",
       "        text-align: right;\n",
       "    }\n",
       "</style>\n",
       "<table border=\"1\" class=\"dataframe\">\n",
       "  <thead>\n",
       "    <tr style=\"text-align: right;\">\n",
       "      <th></th>\n",
       "      <th>Word</th>\n",
       "      <th>Prediction</th>\n",
       "    </tr>\n",
       "  </thead>\n",
       "  <tbody>\n",
       "    <tr>\n",
       "      <th>0</th>\n",
       "      <td>диэн</td>\n",
       "      <td>+?</td>\n",
       "    </tr>\n",
       "    <tr>\n",
       "      <th>5</th>\n",
       "      <td>да</td>\n",
       "      <td>+?</td>\n",
       "    </tr>\n",
       "    <tr>\n",
       "      <th>14</th>\n",
       "      <td>сөп</td>\n",
       "      <td>+?</td>\n",
       "    </tr>\n",
       "    <tr>\n",
       "      <th>24</th>\n",
       "      <td>буолан</td>\n",
       "      <td>+?</td>\n",
       "    </tr>\n",
       "    <tr>\n",
       "      <th>25</th>\n",
       "      <td>баран</td>\n",
       "      <td>+?</td>\n",
       "    </tr>\n",
       "  </tbody>\n",
       "</table>\n",
       "</div>"
      ],
      "text/plain": [
       "      Word Prediction\n",
       "0     диэн         +?\n",
       "5       да         +?\n",
       "14     сөп         +?\n",
       "24  буолан         +?\n",
       "25   баран         +?"
      ]
     },
     "execution_count": 46,
     "metadata": {},
     "output_type": "execute_result"
    }
   ],
   "source": [
    "unknown = df[df[\"Prediction\"].str.contains(\"\\+\\?\")]\n",
    "print(\"Number of unknown words in corpus: \" + str(len(unknown)))\n",
    "unknown.head()"
   ]
  },
  {
   "cell_type": "markdown",
   "id": "93d26dc0",
   "metadata": {},
   "source": [
    "## Calculating the coverage"
   ]
  },
  {
   "cell_type": "code",
   "execution_count": 47,
   "id": "2a94a6ed",
   "metadata": {},
   "outputs": [
    {
     "name": "stdout",
     "output_type": "stream",
     "text": [
      "Transducer coverage: 26.0625\n"
     ]
    }
   ],
   "source": [
    "res = ((len(df)-len(unknown))/len(df))*100\n",
    "\n",
    "print(\"Transducer coverage: \" + str(res))"
   ]
  },
  {
   "cell_type": "code",
   "execution_count": null,
   "id": "f88ce72c",
   "metadata": {},
   "outputs": [],
   "source": []
  }
 ],
 "metadata": {
  "kernelspec": {
   "display_name": "Python 3 (ipykernel)",
   "language": "python",
   "name": "python3"
  },
  "language_info": {
   "codemirror_mode": {
    "name": "ipython",
    "version": 3
   },
   "file_extension": ".py",
   "mimetype": "text/x-python",
   "name": "python",
   "nbconvert_exporter": "python",
   "pygments_lexer": "ipython3",
   "version": "3.9.11"
  }
 },
 "nbformat": 4,
 "nbformat_minor": 5
}
